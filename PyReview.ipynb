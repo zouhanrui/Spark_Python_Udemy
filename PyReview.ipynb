{
 "cells": [
  {
   "cell_type": "markdown",
   "id": "5de2bbf8",
   "metadata": {},
   "source": [
    "# Py 1"
   ]
  },
  {
   "cell_type": "code",
   "execution_count": 1,
   "id": "29b81df4",
   "metadata": {},
   "outputs": [],
   "source": [
    "import findspark"
   ]
  },
  {
   "cell_type": "code",
   "execution_count": 2,
   "id": "aa6d435a",
   "metadata": {},
   "outputs": [],
   "source": [
    "findspark.init('/home/ubuntu/spark-3.0.0-bin-hadoop2.7')"
   ]
  },
  {
   "cell_type": "code",
   "execution_count": 3,
   "id": "36b30d49",
   "metadata": {},
   "outputs": [],
   "source": [
    "import pyspark"
   ]
  },
  {
   "cell_type": "code",
   "execution_count": 4,
   "id": "d9b7ca87",
   "metadata": {},
   "outputs": [
    {
     "data": {
      "text/plain": [
       "1"
      ]
     },
     "execution_count": 4,
     "metadata": {},
     "output_type": "execute_result"
    }
   ],
   "source": [
    "1"
   ]
  },
  {
   "cell_type": "code",
   "execution_count": 5,
   "id": "bb24d517",
   "metadata": {},
   "outputs": [],
   "source": [
    "x = 'string'"
   ]
  },
  {
   "cell_type": "code",
   "execution_count": 6,
   "id": "1c88d7a4",
   "metadata": {},
   "outputs": [
    {
     "data": {
      "text/plain": [
       "'STRING'"
      ]
     },
     "execution_count": 6,
     "metadata": {},
     "output_type": "execute_result"
    }
   ],
   "source": [
    "x.upper()"
   ]
  },
  {
   "cell_type": "code",
   "execution_count": 8,
   "id": "395f7a64",
   "metadata": {},
   "outputs": [
    {
     "data": {
      "text/plain": [
       "float"
      ]
     },
     "execution_count": 8,
     "metadata": {},
     "output_type": "execute_result"
    }
   ],
   "source": [
    "type(213.1)"
   ]
  },
  {
   "cell_type": "code",
   "execution_count": 12,
   "id": "9dc46d47",
   "metadata": {},
   "outputs": [
    {
     "name": "stdout",
     "output_type": "stream",
     "text": [
      "tis is a format for asdfa, and the number format 109\n"
     ]
    }
   ],
   "source": [
    "print('tis is a format for {}, and the number format {}'.format('asdfa', '109'))"
   ]
  },
  {
   "cell_type": "code",
   "execution_count": 13,
   "id": "b21deed2",
   "metadata": {},
   "outputs": [
    {
     "name": "stdout",
     "output_type": "stream",
     "text": [
      "first: asldkfjal, sad\n"
     ]
    }
   ],
   "source": [
    "print(\"first: {x}, {y}\".format(x='asldkfjal', y='sad'))"
   ]
  },
  {
   "cell_type": "markdown",
   "id": "3bc0a0d3",
   "metadata": {},
   "source": [
    "# List"
   ]
  },
  {
   "cell_type": "code",
   "execution_count": 15,
   "id": "671fa766",
   "metadata": {},
   "outputs": [],
   "source": [
    "newlist=['a', 'b', 'c']"
   ]
  },
  {
   "cell_type": "code",
   "execution_count": 18,
   "id": "dca19626",
   "metadata": {},
   "outputs": [],
   "source": [
    "newlist[-1] = 'NEW'"
   ]
  },
  {
   "cell_type": "code",
   "execution_count": 19,
   "id": "5086ab4e",
   "metadata": {},
   "outputs": [
    {
     "data": {
      "text/plain": [
       "'NEW'"
      ]
     },
     "execution_count": 19,
     "metadata": {},
     "output_type": "execute_result"
    }
   ],
   "source": [
    "newlist[-1]"
   ]
  },
  {
   "cell_type": "code",
   "execution_count": 20,
   "id": "405d803c",
   "metadata": {},
   "outputs": [],
   "source": [
    "newlist.append('d')"
   ]
  },
  {
   "cell_type": "code",
   "execution_count": 24,
   "id": "76091048",
   "metadata": {},
   "outputs": [
    {
     "data": {
      "text/plain": [
       "['a', 'b', 'NEW', 'd', ['list', 'in', 'list']]"
      ]
     },
     "execution_count": 24,
     "metadata": {},
     "output_type": "execute_result"
    }
   ],
   "source": [
    "newlist"
   ]
  },
  {
   "cell_type": "code",
   "execution_count": 23,
   "id": "4eeb2228",
   "metadata": {},
   "outputs": [],
   "source": [
    "newlist.append(['list', 'in', 'list'])"
   ]
  },
  {
   "cell_type": "code",
   "execution_count": 25,
   "id": "8f53bfbc",
   "metadata": {},
   "outputs": [
    {
     "data": {
      "text/plain": [
       "['list', 'in', 'list']"
      ]
     },
     "execution_count": 25,
     "metadata": {},
     "output_type": "execute_result"
    }
   ],
   "source": [
    "newlist[-1]"
   ]
  },
  {
   "cell_type": "code",
   "execution_count": 26,
   "id": "f3d82671",
   "metadata": {},
   "outputs": [
    {
     "data": {
      "text/plain": [
       "'in'"
      ]
     },
     "execution_count": 26,
     "metadata": {},
     "output_type": "execute_result"
    }
   ],
   "source": [
    "newlist[-1][1]"
   ]
  },
  {
   "cell_type": "code",
   "execution_count": 89,
   "id": "e1569907",
   "metadata": {},
   "outputs": [],
   "source": [
    "last = newlist.pop()"
   ]
  },
  {
   "cell_type": "code",
   "execution_count": 90,
   "id": "8b0497ae",
   "metadata": {},
   "outputs": [
    {
     "data": {
      "text/plain": [
       "'NEW'"
      ]
     },
     "execution_count": 90,
     "metadata": {},
     "output_type": "execute_result"
    }
   ],
   "source": [
    "last"
   ]
  },
  {
   "cell_type": "code",
   "execution_count": 91,
   "id": "8163b8db",
   "metadata": {},
   "outputs": [],
   "source": [
    "list2 = [1,2,3,4]"
   ]
  },
  {
   "cell_type": "code",
   "execution_count": 92,
   "id": "00f3de49",
   "metadata": {},
   "outputs": [
    {
     "data": {
      "text/plain": [
       "3"
      ]
     },
     "execution_count": 92,
     "metadata": {},
     "output_type": "execute_result"
    }
   ],
   "source": [
    "list2.pop(2)"
   ]
  },
  {
   "cell_type": "code",
   "execution_count": 93,
   "id": "1e0e1a29",
   "metadata": {},
   "outputs": [
    {
     "data": {
      "text/plain": [
       "[1, 2, 4]"
      ]
     },
     "execution_count": 93,
     "metadata": {},
     "output_type": "execute_result"
    }
   ],
   "source": [
    "list2"
   ]
  },
  {
   "cell_type": "markdown",
   "id": "49fcd209",
   "metadata": {},
   "source": [
    "# Disctionary"
   ]
  },
  {
   "cell_type": "code",
   "execution_count": null,
   "id": "7c3670ac",
   "metadata": {},
   "outputs": [],
   "source": []
  },
  {
   "cell_type": "code",
   "execution_count": null,
   "id": "8863e73a",
   "metadata": {},
   "outputs": [],
   "source": []
  },
  {
   "cell_type": "code",
   "execution_count": 27,
   "id": "b75d7518",
   "metadata": {},
   "outputs": [],
   "source": [
    "d = {'key1':'value', 'key2':2}\n"
   ]
  },
  {
   "cell_type": "code",
   "execution_count": 28,
   "id": "b5ab092f",
   "metadata": {},
   "outputs": [
    {
     "data": {
      "text/plain": [
       "2"
      ]
     },
     "execution_count": 28,
     "metadata": {},
     "output_type": "execute_result"
    }
   ],
   "source": [
    "d['key2']"
   ]
  },
  {
   "cell_type": "code",
   "execution_count": 82,
   "id": "67ad44d3",
   "metadata": {},
   "outputs": [
    {
     "name": "stdout",
     "output_type": "stream",
     "text": [
      "{'key1': 'value', 'key2': 2}\n"
     ]
    }
   ],
   "source": [
    "print(d)"
   ]
  },
  {
   "cell_type": "code",
   "execution_count": 84,
   "id": "4e6dc951",
   "metadata": {},
   "outputs": [
    {
     "data": {
      "text/plain": [
       "dict_keys(['key1', 'key2'])"
      ]
     },
     "execution_count": 84,
     "metadata": {},
     "output_type": "execute_result"
    }
   ],
   "source": [
    "d.keys()"
   ]
  },
  {
   "cell_type": "code",
   "execution_count": 85,
   "id": "1d5198bb",
   "metadata": {},
   "outputs": [
    {
     "data": {
      "text/plain": [
       "dict_items([('key1', 'value'), ('key2', 2)])"
      ]
     },
     "execution_count": 85,
     "metadata": {},
     "output_type": "execute_result"
    }
   ],
   "source": [
    "d.items()"
   ]
  },
  {
   "cell_type": "markdown",
   "id": "a5cf2d28",
   "metadata": {},
   "source": [
    "# Tuple non-immutable"
   ]
  },
  {
   "cell_type": "code",
   "execution_count": 31,
   "id": "894829a6",
   "metadata": {},
   "outputs": [],
   "source": [
    "t = (1,1,1,2,1,2,3,5)"
   ]
  },
  {
   "cell_type": "code",
   "execution_count": 32,
   "id": "d991cbd8",
   "metadata": {},
   "outputs": [
    {
     "ename": "TypeError",
     "evalue": "'tuple' object does not support item assignment",
     "output_type": "error",
     "traceback": [
      "\u001b[0;31m---------------------------------------------------------------------------\u001b[0m",
      "\u001b[0;31mTypeError\u001b[0m                                 Traceback (most recent call last)",
      "Input \u001b[0;32mIn [32]\u001b[0m, in \u001b[0;36m<cell line: 1>\u001b[0;34m()\u001b[0m\n\u001b[0;32m----> 1\u001b[0m t[\u001b[38;5;241m2\u001b[39m] \u001b[38;5;241m=\u001b[39m \u001b[38;5;124m'\u001b[39m\u001b[38;5;124mnew\u001b[39m\u001b[38;5;124m'\u001b[39m\n",
      "\u001b[0;31mTypeError\u001b[0m: 'tuple' object does not support item assignment"
     ]
    }
   ],
   "source": [
    "t[2] = 'new'"
   ]
  },
  {
   "cell_type": "markdown",
   "id": "8ed9f3ef",
   "metadata": {},
   "source": [
    "# Set, unorder and unique"
   ]
  },
  {
   "cell_type": "code",
   "execution_count": 33,
   "id": "8621769d",
   "metadata": {},
   "outputs": [
    {
     "data": {
      "text/plain": [
       "{1, 2, 3, 4, 5}"
      ]
     },
     "execution_count": 33,
     "metadata": {},
     "output_type": "execute_result"
    }
   ],
   "source": [
    "{1,1,1,2,3,4,4,5,5}"
   ]
  },
  {
   "cell_type": "code",
   "execution_count": null,
   "id": "743ef859",
   "metadata": {},
   "outputs": [],
   "source": []
  },
  {
   "cell_type": "code",
   "execution_count": null,
   "id": "613b86f4",
   "metadata": {},
   "outputs": [],
   "source": []
  },
  {
   "cell_type": "code",
   "execution_count": null,
   "id": "81cea415",
   "metadata": {},
   "outputs": [],
   "source": []
  },
  {
   "cell_type": "markdown",
   "id": "183a83c4",
   "metadata": {},
   "source": [
    "# Py2"
   ]
  },
  {
   "cell_type": "code",
   "execution_count": 39,
   "id": "f6db5f08",
   "metadata": {},
   "outputs": [
    {
     "data": {
      "text/plain": [
       "True"
      ]
     },
     "execution_count": 39,
     "metadata": {},
     "output_type": "execute_result"
    }
   ],
   "source": [
    "(1 != 2) and ('a' == 'a')"
   ]
  },
  {
   "cell_type": "code",
   "execution_count": 40,
   "id": "13e43d56",
   "metadata": {},
   "outputs": [
    {
     "data": {
      "text/plain": [
       "True"
      ]
     },
     "execution_count": 40,
     "metadata": {},
     "output_type": "execute_result"
    }
   ],
   "source": [
    "(1<= 4) or ('A' == 'a')"
   ]
  },
  {
   "cell_type": "code",
   "execution_count": 42,
   "id": "0a8b86c9",
   "metadata": {},
   "outputs": [],
   "source": [
    "if 1 == 2:\n",
    "    print('yeah')"
   ]
  },
  {
   "cell_type": "code",
   "execution_count": 44,
   "id": "13af25be",
   "metadata": {},
   "outputs": [
    {
     "name": "stdout",
     "output_type": "stream",
     "text": [
      "second condition is true\n"
     ]
    }
   ],
   "source": [
    "if 'A' == 'a':\n",
    "    print('sdlk')\n",
    "elif 3 == 3:\n",
    "    print('second condition is true')\n",
    "else:\n",
    "    print('no')\n",
    "    "
   ]
  },
  {
   "cell_type": "code",
   "execution_count": 46,
   "id": "bc8dafc5",
   "metadata": {},
   "outputs": [
    {
     "name": "stdout",
     "output_type": "stream",
     "text": [
      "1\n",
      "4\n",
      "27\n",
      "256\n",
      "3125\n",
      "46656\n"
     ]
    }
   ],
   "source": [
    "seq = [1,2,3,4,5,6]\n",
    "for i in seq:\n",
    "    print(i**i)"
   ]
  },
  {
   "cell_type": "code",
   "execution_count": 48,
   "id": "785aaffd",
   "metadata": {},
   "outputs": [
    {
     "name": "stdout",
     "output_type": "stream",
     "text": [
      "i is 1\n",
      "i is 2\n",
      "i is 3\n",
      "i is 4\n"
     ]
    }
   ],
   "source": [
    "i = 1\n",
    "while i < 5:\n",
    "    print('i is {}'.format(i))\n",
    "    i = i + 1"
   ]
  },
  {
   "cell_type": "code",
   "execution_count": 49,
   "id": "6be11c8c",
   "metadata": {},
   "outputs": [
    {
     "data": {
      "text/plain": [
       "range(0, 5)"
      ]
     },
     "execution_count": 49,
     "metadata": {},
     "output_type": "execute_result"
    }
   ],
   "source": [
    "range(5)"
   ]
  },
  {
   "cell_type": "code",
   "execution_count": 50,
   "id": "748a487d",
   "metadata": {},
   "outputs": [
    {
     "data": {
      "text/plain": [
       "[0, 1, 2, 3, 4]"
      ]
     },
     "execution_count": 50,
     "metadata": {},
     "output_type": "execute_result"
    }
   ],
   "source": [
    "list(range(5))"
   ]
  },
  {
   "cell_type": "code",
   "execution_count": 53,
   "id": "62a3d2b3",
   "metadata": {},
   "outputs": [
    {
     "name": "stdout",
     "output_type": "stream",
     "text": [
      "2\n",
      "3\n",
      "4\n"
     ]
    }
   ],
   "source": [
    "for i in range(2,5):\n",
    "    print(i)"
   ]
  },
  {
   "cell_type": "code",
   "execution_count": 54,
   "id": "491fe9a6",
   "metadata": {},
   "outputs": [
    {
     "name": "stdout",
     "output_type": "stream",
     "text": [
      "2\n",
      "3\n",
      "4\n"
     ]
    }
   ],
   "source": [
    "for i in list(range(2,5)):\n",
    "    print(i)"
   ]
  },
  {
   "cell_type": "markdown",
   "id": "9eb7ea60",
   "metadata": {},
   "source": [
    "# List Comprehension  build a list"
   ]
  },
  {
   "cell_type": "code",
   "execution_count": 55,
   "id": "059d4b4a",
   "metadata": {},
   "outputs": [],
   "source": [
    "x = [1,2,3,4,5]"
   ]
  },
  {
   "cell_type": "code",
   "execution_count": 56,
   "id": "7f4d73fd",
   "metadata": {},
   "outputs": [
    {
     "name": "stdout",
     "output_type": "stream",
     "text": [
      "[1, 4, 9, 16, 25]\n"
     ]
    }
   ],
   "source": [
    "out = []\n",
    "for i in x:\n",
    "    out.append(i**2)\n",
    "    \n",
    "print(out)"
   ]
  },
  {
   "cell_type": "code",
   "execution_count": 57,
   "id": "c3ced211",
   "metadata": {},
   "outputs": [
    {
     "data": {
      "text/plain": [
       "[1, 4, 9, 16, 25]"
      ]
     },
     "execution_count": 57,
     "metadata": {},
     "output_type": "execute_result"
    }
   ],
   "source": [
    "[i**2 for i in x]"
   ]
  },
  {
   "cell_type": "markdown",
   "id": "381a6e82",
   "metadata": {},
   "source": [
    "# Py 3 function"
   ]
  },
  {
   "cell_type": "code",
   "execution_count": 62,
   "id": "822fc3a9",
   "metadata": {},
   "outputs": [],
   "source": [
    "def my_func(name = 'default arg'):\n",
    "    \"\"\"\n",
    "    docstring \n",
    "    \"\"\"\n",
    "    print('hel {}'.format(name))"
   ]
  },
  {
   "cell_type": "code",
   "execution_count": 63,
   "id": "82b1cabd",
   "metadata": {},
   "outputs": [
    {
     "name": "stdout",
     "output_type": "stream",
     "text": [
      "hel bitch\n"
     ]
    }
   ],
   "source": [
    "my_func('bitch')"
   ]
  },
  {
   "cell_type": "code",
   "execution_count": 66,
   "id": "79c2a498",
   "metadata": {},
   "outputs": [],
   "source": [
    "def square(x):\n",
    "    return x**2"
   ]
  },
  {
   "cell_type": "code",
   "execution_count": 69,
   "id": "17e82b78",
   "metadata": {},
   "outputs": [
    {
     "name": "stdout",
     "output_type": "stream",
     "text": [
      "4\n"
     ]
    }
   ],
   "source": [
    "result = square(2)"
   ]
  },
  {
   "cell_type": "code",
   "execution_count": 68,
   "id": "ff6ae33c",
   "metadata": {},
   "outputs": [],
   "source": [
    "def square(x):\n",
    "    print(x**2)"
   ]
  },
  {
   "cell_type": "code",
   "execution_count": 71,
   "id": "56b3b5b8",
   "metadata": {},
   "outputs": [
    {
     "data": {
      "text/plain": [
       "NoneType"
      ]
     },
     "execution_count": 71,
     "metadata": {},
     "output_type": "execute_result"
    }
   ],
   "source": [
    "type(result)"
   ]
  },
  {
   "cell_type": "markdown",
   "id": "83dabbff",
   "metadata": {},
   "source": [
    "# Lambda function"
   ]
  },
  {
   "cell_type": "code",
   "execution_count": 72,
   "id": "c55b2e9d",
   "metadata": {},
   "outputs": [
    {
     "data": {
      "text/plain": [
       "<function __main__.<lambda>(var)>"
      ]
     },
     "execution_count": 72,
     "metadata": {},
     "output_type": "execute_result"
    }
   ],
   "source": [
    "lambda var: var*2"
   ]
  },
  {
   "cell_type": "code",
   "execution_count": 73,
   "id": "8a731dec",
   "metadata": {},
   "outputs": [],
   "source": [
    "st = \"my name is sldjaflk\""
   ]
  },
  {
   "cell_type": "code",
   "execution_count": 74,
   "id": "3ec3a111",
   "metadata": {},
   "outputs": [
    {
     "data": {
      "text/plain": [
       "'MY NAME IS SLDJAFLK'"
      ]
     },
     "execution_count": 74,
     "metadata": {},
     "output_type": "execute_result"
    }
   ],
   "source": [
    "st.upper()"
   ]
  },
  {
   "cell_type": "code",
   "execution_count": 76,
   "id": "672645b1",
   "metadata": {},
   "outputs": [
    {
     "data": {
      "text/plain": [
       "['my', 'name', 'is', 'sldjaflk']"
      ]
     },
     "execution_count": 76,
     "metadata": {},
     "output_type": "execute_result"
    }
   ],
   "source": [
    "st.split()"
   ]
  },
  {
   "cell_type": "code",
   "execution_count": 77,
   "id": "8dffa53b",
   "metadata": {},
   "outputs": [],
   "source": [
    "tweet = 'hellow #sport'"
   ]
  },
  {
   "cell_type": "code",
   "execution_count": 78,
   "id": "dac6faf2",
   "metadata": {},
   "outputs": [
    {
     "data": {
      "text/plain": [
       "['hellow', '#sport']"
      ]
     },
     "execution_count": 78,
     "metadata": {},
     "output_type": "execute_result"
    }
   ],
   "source": [
    "tweet.split()"
   ]
  },
  {
   "cell_type": "code",
   "execution_count": 81,
   "id": "190bb52b",
   "metadata": {},
   "outputs": [
    {
     "data": {
      "text/plain": [
       "'sport'"
      ]
     },
     "execution_count": 81,
     "metadata": {},
     "output_type": "execute_result"
    }
   ],
   "source": [
    "tweet.split('#')[-1]  #grab the hashtag"
   ]
  },
  {
   "cell_type": "markdown",
   "id": "8c30352c",
   "metadata": {},
   "source": [
    "## Excerises"
   ]
  },
  {
   "cell_type": "code",
   "execution_count": 94,
   "id": "65180bc2",
   "metadata": {},
   "outputs": [],
   "source": [
    "s = 'Hi there Sam!'"
   ]
  },
  {
   "cell_type": "code",
   "execution_count": 95,
   "id": "f01552bc",
   "metadata": {},
   "outputs": [
    {
     "data": {
      "text/plain": [
       "['Hi', 'there', 'Sam!']"
      ]
     },
     "execution_count": 95,
     "metadata": {},
     "output_type": "execute_result"
    }
   ],
   "source": [
    "s.split()"
   ]
  },
  {
   "cell_type": "code",
   "execution_count": 96,
   "id": "9068c099",
   "metadata": {},
   "outputs": [],
   "source": [
    "planet = 'Earth'"
   ]
  },
  {
   "cell_type": "code",
   "execution_count": 97,
   "id": "6864f2f1",
   "metadata": {},
   "outputs": [],
   "source": [
    "diameter = 12324324"
   ]
  },
  {
   "cell_type": "code",
   "execution_count": 98,
   "id": "5a8bbca8",
   "metadata": {},
   "outputs": [
    {
     "name": "stdout",
     "output_type": "stream",
     "text": [
      "the diameter of Earth is 12324324 Kilometers\n"
     ]
    }
   ],
   "source": [
    "print('the diameter of {} is {} Kilometers'.format(planet, diameter))"
   ]
  },
  {
   "cell_type": "code",
   "execution_count": 100,
   "id": "4f97e487",
   "metadata": {},
   "outputs": [],
   "source": [
    "lst = [1,2,[3,4],[5,[200,200,['hello']],23,11],1,7]"
   ]
  },
  {
   "cell_type": "code",
   "execution_count": 101,
   "id": "34b61718",
   "metadata": {},
   "outputs": [
    {
     "data": {
      "text/plain": [
       "['hello']"
      ]
     },
     "execution_count": 101,
     "metadata": {},
     "output_type": "execute_result"
    }
   ],
   "source": [
    "lst[3][1][2]"
   ]
  },
  {
   "cell_type": "code",
   "execution_count": 102,
   "id": "4a9cd8bf",
   "metadata": {},
   "outputs": [
    {
     "data": {
      "text/plain": [
       "'hello'"
      ]
     },
     "execution_count": 102,
     "metadata": {},
     "output_type": "execute_result"
    }
   ],
   "source": [
    "lst[3][1][2][0]"
   ]
  },
  {
   "cell_type": "code",
   "execution_count": 104,
   "id": "f993b59a",
   "metadata": {},
   "outputs": [],
   "source": [
    "a = \"user@domain.com\""
   ]
  },
  {
   "cell_type": "code",
   "execution_count": 105,
   "id": "4e6142fd",
   "metadata": {},
   "outputs": [
    {
     "data": {
      "text/plain": [
       "'domain.com'"
      ]
     },
     "execution_count": 105,
     "metadata": {},
     "output_type": "execute_result"
    }
   ],
   "source": [
    "a.split('@')[-1]"
   ]
  },
  {
   "cell_type": "code",
   "execution_count": 114,
   "id": "a1414593",
   "metadata": {},
   "outputs": [],
   "source": [
    "def  countdogs(st):\n",
    "    count = 0\n",
    "    words = st.lower().split()\n",
    "    for word in words:\n",
    "        if word == 'dog':\n",
    "            count += 1\n",
    "        \n",
    "    return count"
   ]
  },
  {
   "cell_type": "code",
   "execution_count": 115,
   "id": "301cf7a2",
   "metadata": {},
   "outputs": [
    {
     "data": {
      "text/plain": [
       "2"
      ]
     },
     "execution_count": 115,
     "metadata": {},
     "output_type": "execute_result"
    }
   ],
   "source": [
    "countdogs('This dog runs faster than the other dog dudw!')"
   ]
  },
  {
   "cell_type": "code",
   "execution_count": null,
   "id": "b48beb2a",
   "metadata": {},
   "outputs": [],
   "source": []
  }
 ],
 "metadata": {
  "kernelspec": {
   "display_name": "Python 3 (ipykernel)",
   "language": "python",
   "name": "python3"
  },
  "language_info": {
   "codemirror_mode": {
    "name": "ipython",
    "version": 3
   },
   "file_extension": ".py",
   "mimetype": "text/x-python",
   "name": "python",
   "nbconvert_exporter": "python",
   "pygments_lexer": "ipython3",
   "version": "3.10.4"
  }
 },
 "nbformat": 4,
 "nbformat_minor": 5
}
